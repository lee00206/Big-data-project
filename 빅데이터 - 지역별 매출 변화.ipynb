{
 "cells": [
  {
   "cell_type": "markdown",
   "metadata": {},
   "source": [
    "# 지역별 매출 변화 분석"
   ]
  },
  {
   "cell_type": "code",
   "execution_count": 1,
   "metadata": {},
   "outputs": [],
   "source": [
    "import pandas as pd\n",
    "import numpy as np\n",
    "from matplotlib import pyplot as plt\n",
    "from scipy import stats"
   ]
  },
  {
   "cell_type": "code",
   "execution_count": 2,
   "metadata": {},
   "outputs": [],
   "source": [
    "import os\n",
    "os.name\n",
    "\n",
    "if os.name == 'posix': # Mac 환경 폰트 설정\n",
    "    plt.rc('font', family='AppleGothic')"
   ]
  },
  {
   "cell_type": "code",
   "execution_count": 3,
   "metadata": {},
   "outputs": [],
   "source": [
    "# Load Data\n",
    "\n",
    "differentFile = \"/Users/ChaeEun/Desktop/프로젝트/DifferentCity.csv\"\n",
    "\n",
    "sameFile = \"/Users/ChaeEun/Desktop/프로젝트/SameCity.csv\"\n",
    "\n",
    "allFile = \"/Users/ChaeEun/Desktop/프로젝트/bcdata.csv\""
   ]
  },
  {
   "cell_type": "code",
   "execution_count": 4,
   "metadata": {},
   "outputs": [],
   "source": [
    "# Read Data\n",
    "\n",
    "different = pd.read_csv(differentFile)\n",
    "\n",
    "same = pd.read_csv(sameFile)\n",
    "\n",
    "allarea = pd.read_csv(allFile)"
   ]
  },
  {
   "cell_type": "markdown",
   "metadata": {},
   "source": [
    "## 이용금액 합"
   ]
  },
  {
   "cell_type": "code",
   "execution_count": 5,
   "metadata": {},
   "outputs": [],
   "source": [
    "# 전국 카드 사용 월별 그룹화\n",
    "\n",
    "allDate = allarea.groupby(by = [\"REG_YYMM\"])\n",
    "\n",
    "# 전국 월별 이용금액 합\n",
    "\n",
    "allDateAMT = allDate['AMT'].sum()"
   ]
  },
  {
   "cell_type": "code",
   "execution_count": 6,
   "metadata": {},
   "outputs": [],
   "source": [
    "# 전국 카드 사용 지역과 월별 그룹화\n",
    "\n",
    "allAreaDate = allarea.groupby(by = [\"CARD_SIDO_NM\", \"REG_YYMM\"])\n",
    "\n",
    "# 전국 지역과 월별 이용금액 합\n",
    "\n",
    "allAreaDateAMT = allAreaDate['AMT'].sum()"
   ]
  },
  {
   "cell_type": "code",
   "execution_count": 7,
   "metadata": {},
   "outputs": [],
   "source": [
    "# 타지역 카드 사용 지역과 월별 그룹화\n",
    "\n",
    "differentDate = different.groupby(by = [\"CARD_SIDO_NM\", \"REG_YYMM\"])\n",
    "\n",
    "# 타지역 지역과 월별 이용금액 합\n",
    "\n",
    "differentDateAMT = differentDate['AMT'].sum()"
   ]
  },
  {
   "cell_type": "code",
   "execution_count": 8,
   "metadata": {},
   "outputs": [],
   "source": [
    "# 같은지역 카드 사용 지역과 월별 그룹화\n",
    "\n",
    "sameDate = same.groupby(by = [\"CARD_SIDO_NM\", \"REG_YYMM\"])\n",
    "\n",
    "# 같은지역 지역과 월별 이용금액 합\n",
    "\n",
    "sameDateAMT = sameDate['AMT'].sum()"
   ]
  },
  {
   "cell_type": "markdown",
   "metadata": {},
   "source": [
    "## 전국 월별 매출 변화"
   ]
  },
  {
   "cell_type": "code",
   "execution_count": 9,
   "metadata": {},
   "outputs": [
    {
     "data": {
      "image/png": "[encoded data removed]",
      "text/plain": [
       "<Figure size 432x288 with 1 Axes>"
      ]
     },
     "metadata": {
      "needs_background": "light"
     },
     "output_type": "display_data"
    }
   ],
   "source": [
    "# 월별 이용금액 시각화\n",
    "\n",
    "allDateAMT.plot.bar()\n",
    "plt.xlabel('년월')\n",
    "plt.ylabel('매출 금액')\n",
    "plt.title('전국 년월에 따른 카드 매출 변화')\n",
    "\n",
    "plt.show()\n"
   ]
  },
  {
   "cell_type": "code",
   "execution_count": 10,
   "metadata": {},
   "outputs": [],
   "source": [
    "# 전국 코로나 전후 카드 매출 비교 (2019년 1월~4월, 2020년 1월~4월)\n",
    "\n",
    "# 2019년 1월~4월, 2020년 1월~4월 매출 데이터 추출\n",
    "allDateAMT2019 = allDateAMT.loc['201901': '201904']\n",
    "allDateAMT2020 = allDateAMT.loc['202001': '202004']\n",
    "\n",
    "# 2019년 2월~4월, 2020년 2월~4월 카드매출 데이터 추출\n",
    "allDateAMT2019_2 = allDateAMT.loc['201902': '201904']\n",
    "allDateAMT2020_2 = allDateAMT.loc['202002': '202004']"
   ]
  },
  {
   "cell_type": "code",
   "execution_count": 11,
   "metadata": {},
   "outputs": [
    {
     "data": {
      "image/png": "[encoded data removed]",
      "text/plain": [
       "<Figure size 432x288 with 1 Axes>"
      ]
     },
     "metadata": {
      "needs_background": "light"
     },
     "output_type": "display_data"
    },
    {
     "name": "stdout",
     "output_type": "stream",
     "text": [
      "2019년 1월~4월과 2020년 1월~4월 전국 카드매출 t-statistics 값은 1.630 이며, p-value는 0.154 입니다.\n",
      "2019년 2월~4월과 2020년 2월~4월 전국 카드매출 t-statistics 값은 3.062 이며, p-value는 0.038 입니다.\n",
      "2019년 2월~4월에 비해 2020년 2월~4월 카드매출은 11.88%가 하락하였습니다.\n"
     ]
    }
   ],
   "source": [
    "# 2019년 1월~4월, 2020년 1월~4월 전국 카드 매출 비교 시각화\n",
    "\n",
    "fig, ax = plt.subplots()\n",
    "\n",
    "N = 4\n",
    "ind = np.arange(N)\n",
    "width = 0.35\n",
    "p1 = ax.bar(ind, allDateAMT2019, width)\n",
    "\n",
    "p2 = ax.bar(ind+width, allDateAMT2020, width)\n",
    "\n",
    "ax.set_title('전국 카드 매출 1월~4월 비교')\n",
    "ax.set_xticks(ind+width / 2)\n",
    "ax.set_xticklabels(('1월', '2월', '3월', '4월'))\n",
    "\n",
    "ax.legend((p1[0], p2[0]), ('2019년', '2020년'), bbox_to_anchor=(1.05, 1))\n",
    "\n",
    "plt.show()\n",
    "\n",
    "# 이용금액 Sample T-test 실행\n",
    "\n",
    "# 2019년 1월~4월, 2020년 1월~4월 카드매출 T-test\n",
    "allDateAMTttest = stats.ttest_ind(allDateAMT2019.values, allDateAMT2020.values)\n",
    "print(\"2019년 1월~4월과 2020년 1월~4월 전국 카드매출 t-statistics 값은 %.3f 이며, p-value는 %.3f 입니다.\" %allDateAMTttest)\n",
    "\n",
    "# 2019년 2월~4월, 2020년 2월~4월 카드대출 T-test\n",
    "allDateAMTttest_2 = stats.ttest_ind(allDateAMT2019_2.values, allDateAMT2020_2.values)\n",
    "print(\"2019년 2월~4월과 2020년 2월~4월 전국 카드매출 t-statistics 값은 %.3f 이며, p-value는 %.3f 입니다.\" %allDateAMTttest_2)\n",
    "\n",
    "# 매출 하락 %\n",
    "\n",
    "AMT2019sum = sum(allDateAMT2019_2.values)\n",
    "AMT2020sum = sum(allDateAMT2020_2.values)\n",
    "\n",
    "AMTpercentage = (AMT2019sum - AMT2020sum) / AMT2019sum * 100\n",
    "print(\"2019년 2월~4월에 비해 2020년 2월~4월 카드매출은 %.2f%%가 하락하였습니다.\" %AMTpercentage)"
   ]
  },
  {
   "cell_type": "markdown",
   "metadata": {},
   "source": [
    "## 강원"
   ]
  },
  {
   "cell_type": "code",
   "execution_count": 12,
   "metadata": {},
   "outputs": [],
   "source": [
    "# 강원 이용금액\n",
    "\n",
    "DateAMT = allAreaDateAMT['강원']\n",
    "\n",
    "# 타지역 이용금액\n",
    "\n",
    "DifferentAMT = differentDateAMT['강원']\n",
    "\n",
    "# 같은지역 이용금액\n",
    "\n",
    "SameAMT = sameDateAMT['강원']\n",
    "\n",
    "# 타지역과 같은지역 고객 이용금액 비율\n",
    "\n",
    "AMTratio = SameAMT/DifferentAMT"
   ]
  },
  {
   "cell_type": "code",
   "execution_count": 13,
   "metadata": {},
   "outputs": [
    {
     "data": {
      "image/png": "[encoded data removed]",
      "text/plain": [
       "<Figure size 1080x360 with 2 Axes>"
      ]
     },
     "metadata": {
      "needs_background": "light"
     },
     "output_type": "display_data"
    }
   ],
   "source": [
    "# 이용금액 시각화\n",
    "\n",
    "plt.figure(figsize = (15, 5))\n",
    "plt.subplot(1, 2, 1)\n",
    "\n",
    "DateAMT.plot.bar()\n",
    "plt.xlabel('년월')\n",
    "plt.ylabel('카드매출 금액')\n",
    "plt.title('강원 년월에 따른 카드매출 추이')\n",
    "\n",
    "plt.subplot(1, 2, 2)\n",
    "\n",
    "AMTratio.plot.bar()\n",
    "plt.xlabel('년월')\n",
    "plt.ylabel('비율')\n",
    "plt.title('강원 년월에 따른 같은 지역 고객과 타지역 고객 카드매출 비율 추이')\n",
    "\n",
    "plt.show()"
   ]
  },
  {
   "cell_type": "code",
   "execution_count": 14,
   "metadata": {},
   "outputs": [],
   "source": [
    "# 코로나 전후 비교 (2019년 1월~4월, 2020년 1월~4월)\n",
    "\n",
    "# 2019년 1월~4월, 2020년 1월~4월 이용금액 합 데이터 추출\n",
    "DateAMT2019 = DateAMT.loc['201901': '201904']\n",
    "DateAMT2020 = DateAMT.loc['202001': '202004']\n",
    "\n",
    "SameAMT2019 = SameAMT.loc['201901':'201904']\n",
    "SameAMT2020 = SameAMT.loc['202001':'202004']\n",
    "\n",
    "DifferentAMT2019 = DifferentAMT.loc['201901':'201904']\n",
    "DifferentAMT2020 = DifferentAMT.loc['202001':'202004']\n",
    "\n",
    "# 2019년 2월~4월, 2020년 2월~4월 이용건수 합 데이터 추출\n",
    "\n",
    "DateAMT2019_2 = DateAMT.loc['201902': '201904']\n",
    "DateAMT2020_2 = DateAMT.loc['202002': '202004']\n",
    "\n",
    "SameAMT2019_2 = SameAMT.loc['201902':'201904']\n",
    "SameAMT2020_2 = SameAMT.loc['202002':'202004']\n",
    "\n",
    "DifferentAMT2019_2 = DifferentAMT.loc['201902':'201904']\n",
    "DifferentAMT2020_2 = DifferentAMT.loc['202002':'202004']"
   ]
  },
  {
   "cell_type": "code",
   "execution_count": 15,
   "metadata": {},
   "outputs": [
    {
     "data": {
      "image/png": "[encoded data removed]",
      "text/plain": [
       "<Figure size 432x288 with 1 Axes>"
      ]
     },
     "metadata": {
      "needs_background": "light"
     },
     "output_type": "display_data"
    },
    {
     "name": "stdout",
     "output_type": "stream",
     "text": [
      "2019년 1월~4월과 2020년 1월~4월 카드매출 t-statistics 값은 0.666 이며, p-value는 0.530 입니다.\n",
      "2019년 2월~4월과 2020년 2월~4월 카드매출 t-statistics 값은 2.704 이며, p-value는 0.054 입니다.\n",
      "2019년 2월~4월에 비해 2020년 2월~4월 카드매출은 8.34%가 하락하였습니다.\n"
     ]
    }
   ],
   "source": [
    "# 2019년 1월~4월, 2020년 1월~4월 이용금액 비교 시각화\n",
    "\n",
    "fig, ax = plt.subplots()\n",
    "\n",
    "N = 4\n",
    "ind = np.arange(N)    # the x locations for the groups\n",
    "width = 0.35         # the width of the bars\n",
    "p1 = ax.bar(ind, DateAMT2019, width)\n",
    "\n",
    "p2 = ax.bar(ind + width, DateAMT2020, width)\n",
    "\n",
    "ax.set_title('강원 카드매출 1월~4월 비교')\n",
    "ax.set_xticks(ind + width / 2)\n",
    "ax.set_xticklabels(('1월', '2월', '3월', '4월'))\n",
    "\n",
    "ax.legend((p1[0], p2[0]), ('2019', '2020'), bbox_to_anchor=(1.05, 1))\n",
    "\n",
    "plt.show()\n",
    "\n",
    "# 이용금액 Sample T-test 실행\n",
    "\n",
    "# 2019년 1월~4월, 2020년 1월~4월 이용금액 T-test\n",
    "DateAMTttest = stats.ttest_ind(DateAMT2019.values, DateAMT2020.values)\n",
    "\n",
    "print(\"2019년 1월~4월과 2020년 1월~4월 카드매출 t-statistics 값은 %.3f 이며, p-value는 %.3f 입니다.\" %DateAMTttest)\n",
    "\n",
    "# 2019년 2월~4월, 2020년 2월~4월 이용금액 T-test\n",
    "DateAMTttest_2 = stats.ttest_ind(DateAMT2019_2.values, DateAMT2020_2.values)\n",
    "\n",
    "print(\"2019년 2월~4월과 2020년 2월~4월 카드매출 t-statistics 값은 %.3f 이며, p-value는 %.3f 입니다.\" %DateAMTttest_2)\n",
    "\n",
    "# 매출 하락 %\n",
    "\n",
    "AMT2019sum = sum(DateAMT2019_2.values)\n",
    "AMT2020sum = sum(DateAMT2020_2.values)\n",
    "\n",
    "AMTpercentage = (AMT2019sum - AMT2020sum) / AMT2019sum * 100\n",
    "print(\"2019년 2월~4월에 비해 2020년 2월~4월 카드매출은 %.2f%%가 하락하였습니다.\" %AMTpercentage)"
   ]
  },
  {
   "cell_type": "code",
   "execution_count": 16,
   "metadata": {},
   "outputs": [
    {
     "data": {
      "image/png": "[encoded data removed]",
      "text/plain": [
       "<Figure size 432x288 with 1 Axes>"
      ]
     },
     "metadata": {
      "needs_background": "light"
     },
     "output_type": "display_data"
    },
    {
     "name": "stdout",
     "output_type": "stream",
     "text": [
      "2019년 1월~4월과 2020년 1월~4월 같은 지역 고객의 카드매출 t-statistics 값은 0.368 이며, p-value는 0.726 입니다.\n",
      "2019년 2월~4월과 2020년 2월~4월 같은 지역 고객의 카드매출 t-statistics 값은 0.768 이며, p-value는 0.485 입니다.\n",
      "2019년 2월~4월에 비해 2020년 2월~4월 카드매출은 3.82%가 하락하였습니다.\n"
     ]
    }
   ],
   "source": [
    "# 2019년 1월~4월, 2020년 1월~4월 같은 지역 이용금액 비교 시각화\n",
    "\n",
    "fig, ax = plt.subplots()\n",
    "\n",
    "N = 4\n",
    "ind = np.arange(N)    # the x locations for the groups\n",
    "width = 0.35         # the width of the bars\n",
    "p1 = ax.bar(ind, SameAMT2019, width)\n",
    "\n",
    "p2 = ax.bar(ind + width, SameAMT2020, width)\n",
    "\n",
    "ax.set_title('강원 같은 지역 고객 카드매출 1월~4월 비교')\n",
    "ax.set_xticks(ind + width / 2)\n",
    "ax.set_xticklabels(('1월', '2월', '3월', '4월'))\n",
    "\n",
    "ax.legend((p1[0], p2[0]), ('2019', '2020'), bbox_to_anchor=(1.05, 1))\n",
    "\n",
    "plt.show()\n",
    "\n",
    "# 이용금액 Sample T-test 실행\n",
    "\n",
    "# 2019년 1~4월, 2020년 1~4월 이용금액 T-test\n",
    "\n",
    "SameAMTttest = stats.ttest_ind(SameAMT2019.values, SameAMT2020.values)\n",
    "print(\"2019년 1월~4월과 2020년 1월~4월 같은 지역 고객의 카드매출 t-statistics 값은 %.3f 이며, p-value는 %.3f 입니다.\" %SameAMTttest)\n",
    "\n",
    "# 2019년 2~4월, 2020년 2~4월 이용금액 T-test\n",
    "\n",
    "SameAMTttest_2 = stats.ttest_ind(SameAMT2019_2.values, SameAMT2020_2.values)\n",
    "print(\"2019년 2월~4월과 2020년 2월~4월 같은 지역 고객의 카드매출 t-statistics 값은 %.3f 이며, p-value는 %.3f 입니다.\" %SameAMTttest_2)\n",
    "\n",
    "# 매출 하락 %\n",
    "\n",
    "AMT2019sum = sum(SameAMT2019_2.values)\n",
    "AMT2020sum = sum(SameAMT2020_2.values)\n",
    "\n",
    "AMTpercentage = (AMT2019sum - AMT2020sum) / AMT2019sum * 100\n",
    "print(\"2019년 2월~4월에 비해 2020년 2월~4월 카드매출은 %.2f%%가 하락하였습니다.\" %AMTpercentage)"
   ]
  },
  {
   "cell_type": "code",
   "execution_count": 17,
   "metadata": {},
   "outputs": [
    {
     "data": {
      "image/png": "[encoded data removed]",
      "text/plain": [
       "<Figure size 432x288 with 1 Axes>"
      ]
     },
     "metadata": {
      "needs_background": "light"
     },
     "output_type": "display_data"
    },
    {
     "name": "stdout",
     "output_type": "stream",
     "text": [
      "2019년 1월~4월과 2020년 1월~4월 타지역 고객의 카드매출 t-statistics 값은 0.752 이며, p-value는 0.481 입니다.\n",
      "2019년 2월~4월과 2020년 2월~4월 타지역 고객의 카드매출 t-statistics 값은 3.181 이며, p-value는 0.033 입니다.\n",
      "2019년 2월~4월에 비해 2020년 2월~4월 카드매출은 25.19%가 하락하였습니다.\n"
     ]
    }
   ],
   "source": [
    "# 2019년 1월~4월, 2020년 1월~4월 타지역 이용금액 비교 시각화\n",
    "\n",
    "fig, ax = plt.subplots()\n",
    "\n",
    "N = 4\n",
    "ind = np.arange(N)    # the x locations for the groups\n",
    "width = 0.35         # the width of the bars\n",
    "p1 = ax.bar(ind, DifferentAMT2019, width)\n",
    "\n",
    "p2 = ax.bar(ind + width, DifferentAMT2020, width)\n",
    "\n",
    "ax.set_title('강원 타지역 고객 카드매출 1월~4월 비교')\n",
    "ax.set_xticks(ind + width / 2)\n",
    "ax.set_xticklabels(('1월', '2월', '3월', '4월'))\n",
    "\n",
    "ax.legend((p1[0], p2[0]), ('2019', '2020'), bbox_to_anchor=(1.05, 1))\n",
    "\n",
    "plt.show()\n",
    "\n",
    "# 이용금액 Sample T-test 실행\n",
    "\n",
    "# 2019년 1~4월, 2020년 1~4월 이용금액 T-test\n",
    "\n",
    "DifferentAMTttest = stats.ttest_ind(DifferentAMT2019.values, DifferentAMT2020.values)\n",
    "print(\"2019년 1월~4월과 2020년 1월~4월 타지역 고객의 카드매출 t-statistics 값은 %.3f 이며, p-value는 %.3f 입니다.\" %DifferentAMTttest)\n",
    "\n",
    "# 2019년 2~4월, 2020년 2~4월 이용금액 T-test\n",
    "\n",
    "DifferentAMTttest_2 = stats.ttest_ind(DifferentAMT2019_2.values, DifferentAMT2020_2.values)\n",
    "print(\"2019년 2월~4월과 2020년 2월~4월 타지역 고객의 카드매출 t-statistics 값은 %.3f 이며, p-value는 %.3f 입니다.\" %DifferentAMTttest_2)\n",
    "\n",
    "# 매출 하락 %\n",
    "\n",
    "AMT2019sum = sum(DifferentAMT2019_2.values)\n",
    "AMT2020sum = sum(DifferentAMT2020_2.values)\n",
    "\n",
    "AMTpercentage = (AMT2019sum - AMT2020sum) / AMT2019sum * 100\n",
    "print(\"2019년 2월~4월에 비해 2020년 2월~4월 카드매출은 %.2f%%가 하락하였습니다.\" %AMTpercentage)"
   ]
  },
  {
   "cell_type": "markdown",
   "metadata": {},
   "source": [
    "위와 같은 방법으로 17개 지역 분석을 하였습니다."
   ]
  },
  {
   "cell_type": "code",
   "execution_count": null,
   "metadata": {},
   "outputs": [],
   "source": []
  }
 ],
 "metadata": {
  "kernelspec": {
   "display_name": "Python 3",
   "language": "python",
   "name": "python3"
  },
  "language_info": {
   "codemirror_mode": {
    "name": "ipython",
    "version": 3
   },
   "file_extension": ".py",
   "mimetype": "text/x-python",
   "name": "python",
   "nbconvert_exporter": "python",
   "pygments_lexer": "ipython3",
   "version": "3.8.3"
  }
 },
 "nbformat": 4,
 "nbformat_minor": 4
}
