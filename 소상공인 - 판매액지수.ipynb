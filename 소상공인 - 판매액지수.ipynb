{
 "cells": [
  {
   "cell_type": "markdown",
   "metadata": {},
   "source": [
    "# 판매액지수와 카드매출 상관관계 분석"
   ]
  },
  {
   "cell_type": "code",
   "execution_count": 1,
   "metadata": {},
   "outputs": [],
   "source": [
    "import pandas as pd\n",
    "import numpy as np\n",
    "from matplotlib import pyplot as plt\n",
    "from scipy import stats"
   ]
  },
  {
   "cell_type": "code",
   "execution_count": 2,
   "metadata": {},
   "outputs": [],
   "source": [
    "import os\n",
    "os.name\n",
    "\n",
    "if os.name == 'posix': # Mac 환경 폰트 설정\n",
    "    plt.rc('font', family='AppleGothic')"
   ]
  },
  {
   "cell_type": "code",
   "execution_count": 4,
   "metadata": {},
   "outputs": [],
   "source": [
    "# Load Data\n",
    "\n",
    "cardFile = \"/Users/ChaeEun/Desktop/프로젝트/bcdata.csv\"\n",
    "\n",
    "# Read Data\n",
    "\n",
    "card = pd.read_csv(cardFile)"
   ]
  },
  {
   "cell_type": "code",
   "execution_count": 13,
   "metadata": {},
   "outputs": [],
   "source": [
    "# 카드 사용 월별 그룹화\n",
    "\n",
    "cardDate = card.groupby(by = ['REG_YYMM'])\n",
    "\n",
    "# 월별 이용금액 합\n",
    "\n",
    "cardDateAMT = cardDate['AMT'].sum()\n",
    "\n",
    "# csv 파일로 저장\n",
    "\n",
    "cardDateAMT.to_csv('/Users/ChaeEun/Desktop/프로젝트/totalAMT.csv', sep=',', na_rep='NaN')\n"
   ]
  },
  {
   "cell_type": "code",
   "execution_count": 14,
   "metadata": {},
   "outputs": [],
   "source": [
    "# 판매액지수 데이터 프레임\n",
    "\n",
    "df = pd.DataFrame({\"REG_YYMM\": [201901, 201902, 201903, 201904, 201905, 201906, 201907, 201908, 201909, 201910, 201911, 201912, 202001, 202002, 202003, 202004],\n",
    "                  \"Sales\": [111.7, 101.9, 118.1, 114.3, 120.1, 112.9, 112.9, 114, 116.9, 119.5, 123.3, 125.1, 116.3, 101.4, 109.8, 110.8]})\n",
    "\n",
    "# csv 파일로 저장\n",
    "\n",
    "df.to_csv('/Users/ChaeEun/Desktop/프로젝트/sales.csv', sep=',', na_rep='NaN')\n"
   ]
  },
  {
   "cell_type": "code",
   "execution_count": null,
   "metadata": {},
   "outputs": [],
   "source": []
  }
 ],
 "metadata": {
  "kernelspec": {
   "display_name": "Python 3",
   "language": "python",
   "name": "python3"
  },
  "language_info": {
   "codemirror_mode": {
    "name": "ipython",
    "version": 3
   },
   "file_extension": ".py",
   "mimetype": "text/x-python",
   "name": "python",
   "nbconvert_exporter": "python",
   "pygments_lexer": "ipython3",
   "version": "3.8.3"
  }
 },
 "nbformat": 4,
 "nbformat_minor": 4
}
