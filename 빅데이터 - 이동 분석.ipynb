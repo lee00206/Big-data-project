{
 "cells": [
  {
   "cell_type": "markdown",
   "metadata": {},
   "source": [
    "# 이동 분석"
   ]
  },
  {
   "cell_type": "markdown",
   "metadata": {},
   "source": [
    "### 데이터"
   ]
  },
  {
   "cell_type": "markdown",
   "metadata": {},
   "source": [
    "데이터는 총 26,048,114 행 13 열로 이루어져 있으며 전처리는 미리 해놓은 상태입니다. 유동인구의 변화를 알기 위하여 카드 이용지역과 고객 거주지역이 같은 데이터(같은 지역 고객)와 다른 데이터(타지역 고객)로 나누어 분석을 하겠습니다. 데이터는 미리 MATLAB을 통해 나누었습니다. 같은 지역 고객 데이터는 총 10,323,084 행 13 열로 이루어져 있으며, 타지역 고객 데이터는 총 15,725,030 행 13 열로 이루어져 있습니다."
   ]
  },
  {
   "cell_type": "markdown",
   "metadata": {},
   "source": [
    "### 변수 설명"
   ]
  },
  {
   "cell_type": "markdown",
   "metadata": {},
   "source": [
    "REG_YYMM: 년월<br> \n",
    "CARD_SIDO_NM: 카드이용지역_시도 (가맹점 주소 기준)<br> \n",
    "CARD_CCG_NM: 카드 이용지역_시군구 (가맹점 주소 기준)<br> \n",
    "STD_CLSS_NM: 업종명<br> \n",
    "HOM_SIDO_NM: 거주지역_시도 (고객 집주소 기준)<br> \n",
    "HOM_CCG_NM: 거주지역_시군구 (고객 집주소 기준)<br> \n",
    "AGE: 연령대<br> \n",
    "SEX_CTGO_CD: 성별 (1: 남성, 2: 여성)<br> \n",
    "FLC: 가구생애주기 (1: 1인가구, 2:영유아자녀가구, 3: 중고생자녀가구, 4: 성인자녀가구, 5: 노년가구)<br> \n",
    "CSTMR_CNT: 이용고객수 (명)<br> \n",
    "AMT: 이용금액 (원)<br> \n",
    "CNT: 이용건수 (건)<br> "
   ]
  },
  {
   "cell_type": "code",
   "execution_count": 1,
   "metadata": {},
   "outputs": [],
   "source": [
    "import pandas as pd\n",
    "import numpy as np\n",
    "from matplotlib import pyplot as plt\n",
    "from scipy import stats"
   ]
  },
  {
   "cell_type": "code",
   "execution_count": 2,
   "metadata": {},
   "outputs": [],
   "source": [
    "import os\n",
    "os.name\n",
    "\n",
    "if os.name == 'posix': # Mac 환경 폰트 설정\n",
    "    plt.rc('font', family='AppleGothic')"
   ]
  },
  {
   "cell_type": "code",
   "execution_count": 3,
   "metadata": {},
   "outputs": [],
   "source": [
    "# Load Data\n",
    "\n",
    "differentFile = \"/Users/ChaeEun/Desktop/프로젝트/DifferentCity.csv\"\n",
    "\n",
    "sameFile = \"/Users/ChaeEun/Desktop/프로젝트/SameCity.csv\""
   ]
  },
  {
   "cell_type": "code",
   "execution_count": 4,
   "metadata": {},
   "outputs": [],
   "source": [
    "# Read Data\n",
    "\n",
    "different = pd.read_csv(differentFile)\n",
    "\n",
    "same = pd.read_csv(sameFile)\n"
   ]
  },
  {
   "cell_type": "markdown",
   "metadata": {},
   "source": [
    "### 지역과 월별 이용건수와 이용금액"
   ]
  },
  {
   "cell_type": "code",
   "execution_count": 5,
   "metadata": {},
   "outputs": [],
   "source": [
    "# 타지역 카드 사용 지역과 월별 그룹화\n",
    "\n",
    "differentDate = different.groupby(by = [\"CARD_SIDO_NM\", \"REG_YYMM\"])\n",
    "\n",
    "# 타지역 지역과 월별 이용건수 합\n",
    "\n",
    "differentDateCNT = differentDate['CNT'].sum()\n",
    "\n",
    "# 타지역 지역과 월별 이용금액 합\n",
    "\n",
    "differentDateAMT = differentDate['AMT'].sum()"
   ]
  },
  {
   "cell_type": "code",
   "execution_count": 6,
   "metadata": {},
   "outputs": [],
   "source": [
    "# 같은지역 카드 사용 지역과 월별 그룹화\n",
    "\n",
    "sameDate = same.groupby(by = [\"CARD_SIDO_NM\", \"REG_YYMM\"])\n",
    "\n",
    "# 같은지역 지역과 월별 이용건수 합\n",
    "\n",
    "sameDateCNT = sameDate['CNT'].sum()\n",
    "\n",
    "# 같은지역 지역과 월별 이용금액 합\n",
    "\n",
    "sameDateAMT = sameDate['AMT'].sum()"
   ]
  },
  {
   "cell_type": "markdown",
   "metadata": {},
   "source": [
    "## 강원"
   ]
  },
  {
   "cell_type": "code",
   "execution_count": 7,
   "metadata": {},
   "outputs": [],
   "source": [
    "# 타지역 이용건수와 이용금액\n",
    "\n",
    "DifferentCNT = differentDateCNT['강원']\n",
    "DifferentAMT = differentDateAMT['강원']\n",
    "\n",
    "# 같은지역 이용건수와 이용금액\n",
    "\n",
    "SameCNT = sameDateCNT['강원']\n",
    "SameAMT = sameDateAMT['강원']\n",
    "\n",
    "# 타지역과 같은지역 비율\n",
    "\n",
    "CNTratio = SameCNT/DifferentCNT\n",
    "AMTratio = SameAMT/DifferentAMT"
   ]
  },
  {
   "cell_type": "code",
   "execution_count": 8,
   "metadata": {},
   "outputs": [
    {
     "data": {
      "image/png": "[encoded data removed]",
      "text/plain": [
       "<Figure size 1080x360 with 2 Axes>"
      ]
     },
     "metadata": {
      "needs_background": "light"
     },
     "output_type": "display_data"
    }
   ],
   "source": [
    "# 이용건수와 이용금액 시각화\n",
    "\n",
    "plt.figure(figsize = (15, 5))\n",
    "plt.subplot(1, 2, 1)\n",
    "\n",
    "CNTratio.plot.bar()\n",
    "plt.xlabel('년월')\n",
    "plt.ylabel('비율')\n",
    "plt.title('강원 년월에 따른 같은 지역 고객과 타지역 고객 이용건수 비율 추이')\n",
    "\n",
    "plt.subplot(1, 2, 2)\n",
    "\n",
    "AMTratio.plot.bar()\n",
    "plt.xlabel('년월')\n",
    "plt.ylabel('비율')\n",
    "plt.title('강원 년월에 따른 같은 지역 고객과 타지역 고객 이용금액 비율 추이')\n",
    "\n",
    "plt.show()"
   ]
  },
  {
   "cell_type": "code",
   "execution_count": 9,
   "metadata": {},
   "outputs": [],
   "source": [
    "# 코로나 전후 비교 (2019년 1월~4월, 2020년 1월~4월)\n",
    "\n",
    "# 2019년 1월~4월, 2020년 1월~4월 이용건수 합 데이터 추출\n",
    "SameCNT2019 = SameCNT.loc['201901':'201904']\n",
    "SameCNT2020 = SameCNT.loc['202001':'202004']\n",
    "\n",
    "DifferentCNT2019 = DifferentCNT.loc['201901':'201904']\n",
    "DifferentCNT2020 = DifferentCNT.loc['202001':'202004']\n",
    "\n",
    "# 2019년 1월~4월, 2020년 1월~4월 이용금액 합 데이터 추출\n",
    "SameAMT2019 = SameAMT.loc['201901':'201904']\n",
    "SameAMT2020 = SameAMT.loc['202001':'202004']\n",
    "\n",
    "DifferentAMT2019 = DifferentAMT.loc['201901':'201904']\n",
    "DifferentAMT2020 = DifferentAMT.loc['202001':'202004']"
   ]
  },
  {
   "cell_type": "code",
   "execution_count": 10,
   "metadata": {},
   "outputs": [],
   "source": [
    "# 2019년 1월~4월, 2020년 1월~4월 이용금액 차이\n",
    "\n",
    "SameAMTdifferenceValue = SameAMT2019.values - SameAMT2020.values\n",
    "SameAMTdifferenceDF = {'REG_YYMM': [201901, 201902, 201903, 201904], '강원': SameAMTdifferenceValue}\n",
    "SameAMTdifference = pd.DataFrame(SameAMTdifferenceDF, columns = ['REG_YYMM', '강원'])\n",
    "\n",
    "DifferentAMTdifferenceValue = DifferentAMT2019.values - DifferentAMT2020.values\n",
    "DifferentAMTdifferenceDF = {'REG_YYMM': [201901, 201902, 201903, 201904], '강원': DifferentAMTdifferenceValue}\n",
    "DifferentAMTdifference = pd.DataFrame(DifferentAMTdifferenceDF, columns = ['REG_YYMM', '강원'])"
   ]
  },
  {
   "cell_type": "code",
   "execution_count": 11,
   "metadata": {},
   "outputs": [
    {
     "data": {
      "image/png": "[encoded data removed]",
      "text/plain": [
       "<Figure size 432x288 with 1 Axes>"
      ]
     },
     "metadata": {
      "needs_background": "light"
     },
     "output_type": "display_data"
    }
   ],
   "source": [
    "# 2019년 1월~4월, 2020년 1월~4월 같은 지역 이용건수 비교 시각화\n",
    "\n",
    "fig, ax = plt.subplots()\n",
    "\n",
    "N = 4\n",
    "ind = np.arange(N)    # the x locations for the groups\n",
    "width = 0.35         # the width of the bars\n",
    "p1 = ax.bar(ind, SameCNT2019, width)\n",
    "\n",
    "p2 = ax.bar(ind + width, SameCNT2020, width)\n",
    "\n",
    "ax.set_title('강원 같은 지역 이용건수 1월~4월 비교')\n",
    "ax.set_xticks(ind + width / 2)\n",
    "ax.set_xticklabels(('1월', '2월', '3월', '4월'))\n",
    "\n",
    "ax.legend((p1[0], p2[0]), ('2019', '2020'), bbox_to_anchor=(1.05, 1))\n",
    "\n",
    "plt.show()"
   ]
  },
  {
   "cell_type": "code",
   "execution_count": 12,
   "metadata": {},
   "outputs": [
    {
     "data": {
      "image/png": "[encoded data removed]",
      "text/plain": [
       "<Figure size 432x288 with 1 Axes>"
      ]
     },
     "metadata": {
      "needs_background": "light"
     },
     "output_type": "display_data"
    }
   ],
   "source": [
    "# 2019년 1월~4월, 2020년 1월~4월 타지역 이용건수 비교 시각화\n",
    "\n",
    "fig, ax = plt.subplots()\n",
    "\n",
    "N = 4\n",
    "ind = np.arange(N)    # the x locations for the groups\n",
    "width = 0.35         # the width of the bars\n",
    "p1 = ax.bar(ind, DifferentCNT2019, width)\n",
    "\n",
    "p2 = ax.bar(ind + width, DifferentCNT2020, width)\n",
    "\n",
    "ax.set_title('강원 타지역 이용건수 1월~4월 비교')\n",
    "ax.set_xticks(ind + width / 2)\n",
    "ax.set_xticklabels(('1월', '2월', '3월', '4월'))\n",
    "\n",
    "ax.legend((p1[0], p2[0]), ('2019', '2020'), bbox_to_anchor=(1.05, 1))\n",
    "\n",
    "plt.show()"
   ]
  },
  {
   "cell_type": "code",
   "execution_count": 13,
   "metadata": {},
   "outputs": [
    {
     "data": {
      "image/png": "[encoded data removed]",
      "text/plain": [
       "<Figure size 432x288 with 1 Axes>"
      ]
     },
     "metadata": {
      "needs_background": "light"
     },
     "output_type": "display_data"
    }
   ],
   "source": [
    "# 2019년 1월~4월, 2020년 1월~4월 같은 지역 이용금액 비교 시각화\n",
    "\n",
    "fig, ax = plt.subplots()\n",
    "\n",
    "N = 4\n",
    "ind = np.arange(N)    # the x locations for the groups\n",
    "width = 0.35         # the width of the bars\n",
    "p1 = ax.bar(ind, SameAMT2019, width)\n",
    "\n",
    "p2 = ax.bar(ind + width, SameAMT2020, width)\n",
    "\n",
    "ax.set_title('강원 같은 지역 고객 이용금액 1월~4월 비교')\n",
    "ax.set_xticks(ind + width / 2)\n",
    "ax.set_xticklabels(('1월', '2월', '3월', '4월'))\n",
    "\n",
    "ax.legend((p1[0], p2[0]), ('2019', '2020'), bbox_to_anchor=(1.05, 1))\n",
    "\n",
    "plt.show()"
   ]
  },
  {
   "cell_type": "code",
   "execution_count": 14,
   "metadata": {},
   "outputs": [
    {
     "data": {
      "image/png": "[encoded data removed]",
      "text/plain": [
       "<Figure size 432x288 with 1 Axes>"
      ]
     },
     "metadata": {
      "needs_background": "light"
     },
     "output_type": "display_data"
    }
   ],
   "source": [
    "# 2019년 1월~4월, 2020년 1월~4월 타지역 이용금액 비교 시각화\n",
    "\n",
    "fig, ax = plt.subplots()\n",
    "\n",
    "N = 4\n",
    "ind = np.arange(N)    # the x locations for the groups\n",
    "width = 0.35         # the width of the bars\n",
    "p1 = ax.bar(ind, DifferentAMT2019, width)\n",
    "\n",
    "p2 = ax.bar(ind + width, DifferentAMT2020, width)\n",
    "\n",
    "ax.set_title('강원 타지역 고객 이용금액 1월~4월 비교')\n",
    "ax.set_xticks(ind + width / 2)\n",
    "ax.set_xticklabels(('1월', '2월', '3월', '4월'))\n",
    "\n",
    "ax.legend((p1[0], p2[0]), ('2019', '2020'), bbox_to_anchor=(1.05, 1))\n",
    "\n",
    "plt.show()"
   ]
  },
  {
   "cell_type": "code",
   "execution_count": 15,
   "metadata": {},
   "outputs": [
    {
     "name": "stdout",
     "output_type": "stream",
     "text": [
      "2019년 1월~4월과 2020년 1월~4월 같은 지역 고객의 이용금액 t-statistics 값은 0.368 이며, p-value는 0.726 입니다.\n",
      "2019년 1월~4월과 2020년 1월~4월 타지역 고객의 이용금액 t-statistics 값은 0.752 이며, p-value는 0.481 입니다.\n",
      "2019년 2월~4월과 2020년 2월~4월 같은 지역 고객의 이용금액 t-statistics 값은 0.768 이며, p-value는 0.485 입니다.\n",
      "2019년 2월~4월과 2020년 2월~4월 타지역 고객의 이용금액 t-statistics 값은 14.298 이며, p-value는 0.000 입니다.\n"
     ]
    }
   ],
   "source": [
    "# 이용금액 Sample T-test 실행\n",
    "\n",
    "# 2019년 1~4월, 2020년 1~4월 이용금액 T-test\n",
    "\n",
    "SameAMTttest = stats.ttest_ind(SameAMT2019.values, SameAMT2020.values)\n",
    "DifferentAMTttest = stats.ttest_ind(DifferentAMT2019.values, DifferentAMT2020.values)\n",
    "\n",
    "# 2019년 2월~4월, 2020년 2월~4월 이용건수 합 데이터 추출\n",
    "\n",
    "SameAMT2019_2 = SameAMT.loc['201902':'201904']\n",
    "SameAMT2020_2 = SameAMT.loc['202002':'202004']\n",
    "\n",
    "DifferentAMT2019_2 = DifferentAMT.loc['201902':'201904']\n",
    "DifferentAMT2020_2 = DifferentCNT.loc['202002':'202004']\n",
    "\n",
    "# 2019년 2~4월, 2020년 2~4월 이용금액 T-test\n",
    "\n",
    "SameAMTttest_2 = stats.ttest_ind(SameAMT2019_2.values, SameAMT2020_2.values)\n",
    "DifferentAMTttest_2 = stats.ttest_ind(DifferentAMT2019_2.values, DifferentAMT2020_2.values)\n",
    "\n",
    "print(\"2019년 1월~4월과 2020년 1월~4월 같은 지역 고객의 이용금액 t-statistics 값은 %.3f 이며, p-value는 %.3f 입니다.\" %SameAMTttest)\n",
    "print(\"2019년 1월~4월과 2020년 1월~4월 타지역 고객의 이용금액 t-statistics 값은 %.3f 이며, p-value는 %.3f 입니다.\" %DifferentAMTttest)\n",
    "print(\"2019년 2월~4월과 2020년 2월~4월 같은 지역 고객의 이용금액 t-statistics 값은 %.3f 이며, p-value는 %.3f 입니다.\" %SameAMTttest_2)\n",
    "print(\"2019년 2월~4월과 2020년 2월~4월 타지역 고객의 이용금액 t-statistics 값은 %.3f 이며, p-value는 %.3f 입니다.\" %DifferentAMTttest_2)\n"
   ]
  },
  {
   "cell_type": "markdown",
   "metadata": {},
   "source": [
    "위와 같은 방법으로 17개 시도 분석을 실행하였습니다."
   ]
  },
  {
   "cell_type": "code",
   "execution_count": null,
   "metadata": {},
   "outputs": [],
   "source": []
  }
 ],
 "metadata": {
  "kernelspec": {
   "display_name": "Python 3",
   "language": "python",
   "name": "python3"
  },
  "language_info": {
   "codemirror_mode": {
    "name": "ipython",
    "version": 3
   },
   "file_extension": ".py",
   "mimetype": "text/x-python",
   "name": "python",
   "nbconvert_exporter": "python",
   "pygments_lexer": "ipython3",
   "version": "3.8.3"
  }
 },
 "nbformat": 4,
 "nbformat_minor": 4
}
